{
  "nbformat": 4,
  "nbformat_minor": 0,
  "metadata": {
    "colab": {
      "name": "GoodReadsAPIwithPython.ipynb",
      "provenance": [],
      "collapsed_sections": [],
      "toc_visible": true,
      "include_colab_link": true
    },
    "kernelspec": {
      "name": "python3",
      "display_name": "Python 3"
    }
  },
  "cells": [
    {
      "cell_type": "markdown",
      "metadata": {
        "id": "view-in-github",
        "colab_type": "text"
      },
      "source": [
        "<a href=\"https://colab.research.google.com/github/chalshaff12/sharing-repo/blob/master/GoodReadsAPIwithPython.ipynb\" target=\"_parent\"><img src=\"https://colab.research.google.com/assets/colab-badge.svg\" alt=\"Open In Colab\"/></a>"
      ]
    },
    {
      "cell_type": "markdown",
      "metadata": {
        "id": "NJQzy3yf_ene",
        "colab_type": "text"
      },
      "source": [
        "# Python Katas\n",
        "\n",
        "---\n",
        "\n",
        "\n",
        "by Michal Shaffer\n",
        "\n",
        "**Exploring the goodreads.com API with python**\n",
        "\n",
        "---\n",
        "[Goodreads.com](https://www.goodreads.com/) is a website where users can look up information about books and save them to their own 'shelves'. This way, readers can track the books they have read, they want to read, and any other category of 'shelf'. I am a long-time user of goodreads and wanted to see what I could do with their API and some python programming. \n",
        "\n",
        "As an example, these are the shelves on my goodreads account:\n",
        "\n",
        "![my shelves](https://i.imgur.com/h3189JN.png?2)\n",
        "\n",
        "#####For this project the following tasks will be completed:\n",
        "\n",
        "\n",
        "1.   Look up goodreads API documentation \n",
        "2.   Get an API key if necessary\n",
        "3.   Connect to the API\n",
        "4.   Parse return data\n",
        "  * Convert xml return data into json or dict format\n",
        "5.  Utilize the following python functions:\n",
        "  *   The `map()` function\n",
        "  *   The `reduce()` function\n",
        "      * A peek at matplotlib for extra credit\n",
        "  *   The `filter()` function\n",
        "  *   `lambda` expressions\n",
        "  *   `list comprehension`\n"
      ]
    },
    {
      "cell_type": "markdown",
      "metadata": {
        "id": "mdvSnQpEIH0V",
        "colab_type": "text"
      },
      "source": [
        "##1) Goodreads API documentation\n",
        "\n",
        "Goodreads' API documentation is found on their [API page](https://www.goodreads.com/api/index).\n",
        "On the page you can see the various methods available. We are going to use the [shelves.list](https://www.goodreads.com/api/index#shelves.list) and the [review.list](https://www.goodreads.com/api/index#reviews.list) API calls. \n",
        "\n",
        "![methods list](https://i.imgur.com/hkfFCSs.png)\n",
        "\n",
        "Clicking on a method will bring you to do the detailed explanation which include the url, HTTP method, and parameter details. \n",
        "\n",
        "![sample method](https://i.imgur.com/PTmvfMP.png)\n",
        "\n",
        "\n",
        "Before we start writing our python code, we need to get an API key for goodreads.\n",
        "\n"
      ]
    },
    {
      "cell_type": "markdown",
      "metadata": {
        "id": "xcvEHJKJKCmm",
        "colab_type": "text"
      },
      "source": [
        "##2) Goodreads API key\n",
        "\n",
        "Goodreads provides a simple [form](https://www.goodreads.com/api/keys) to request a developer key. As soon as the form is submitted you will be give a developer key as well as a 'secret' key. For our purposes, we only need the developer key. Under the form you can view the terms of service for using the goodreads API.\n",
        "\n",
        "Ok, time to write some code!\n"
      ]
    },
    {
      "cell_type": "markdown",
      "metadata": {
        "id": "K0PbLLq8LeM1",
        "colab_type": "text"
      },
      "source": [
        "##3) Connecting to the API\n",
        "\n",
        "Our first step is to import the library we will need to get the API data. I am using `requests` (documentation found [here](https://2.python-requests.org/en/master/).)"
      ]
    },
    {
      "cell_type": "code",
      "metadata": {
        "id": "XuQig8WDLvcw",
        "colab_type": "code",
        "colab": {}
      },
      "source": [
        "import requests"
      ],
      "execution_count": 0,
      "outputs": []
    },
    {
      "cell_type": "markdown",
      "metadata": {
        "id": "Dp7fBE8IMOn7",
        "colab_type": "text"
      },
      "source": [
        "After looking at the API documentation, I know that I will need a url, API key, and a user ID as the parameters for the reviews.list call, so let's set up some variables."
      ]
    },
    {
      "cell_type": "code",
      "metadata": {
        "id": "kxlYJiIxMdRL",
        "colab_type": "code",
        "colab": {}
      },
      "source": [
        "shelves_url = \"https://www.goodreads.com/shelf/list.xml\" #url to get a user's shelves\n",
        "api_key = 'ArRrjtg6wbdYjO5hMqgg' #API key \n",
        "user_id= \"38649296\" #a goodreads user's ID"
      ],
      "execution_count": 0,
      "outputs": []
    },
    {
      "cell_type": "markdown",
      "metadata": {
        "colab_type": "text",
        "id": "TE9df5bdOiO-"
      },
      "source": [
        "Now, using the requests library we imported earlier, let's request the API call and see the status of the page we requested. "
      ]
    },
    {
      "cell_type": "code",
      "metadata": {
        "colab_type": "code",
        "outputId": "7e2cd1dd-374c-421b-a8e2-bbaf1054d736",
        "id": "4ut0aREcOik0",
        "colab": {
          "base_uri": "https://localhost:8080/",
          "height": 34
        }
      },
      "source": [
        "#call the API with parameters from variables set earilier\n",
        "res = requests.get(f'{shelves_url}?key={api_key}&user_id={user_id}') \n",
        "#get api page status to validate apikey\n",
        "status = res.status_code \n",
        "print(\"Status code:\", status) #status 200 is what we want! "
      ],
      "execution_count": 0,
      "outputs": [
        {
          "output_type": "stream",
          "text": [
            "Status code: 200\n"
          ],
          "name": "stdout"
        }
      ]
    },
    {
      "cell_type": "markdown",
      "metadata": {
        "colab_type": "text",
        "id": "QXmD-zsUOjIV"
      },
      "source": [
        "Status code 200 is great! \n",
        "\n",
        "Now we have to parse through the response data. "
      ]
    },
    {
      "cell_type": "markdown",
      "metadata": {
        "colab_type": "text",
        "id": "8tTpwnfbOjoo"
      },
      "source": [
        "##4) Parse the Return data\n",
        "\n",
        "According to the goodreads API documentation, the method we just called returned data in XML format. We can see the datadump with \n",
        "\n",
        "\n",
        "> `print(res.text)`\n",
        "\n",
        "but it is not necessary.\n",
        "\n",
        "XML data is hard to parse through in python, so we'll be utilizing the [xmltodict](https://pypi.org/project/xmltodict/) library to convert the xml into more of a json-like format. \n",
        "\n",
        "Let's import that now.\n",
        "\n"
      ]
    },
    {
      "cell_type": "code",
      "metadata": {
        "id": "kowo9Im6_u0h",
        "colab_type": "code",
        "outputId": "c0271ed6-fcf7-4b40-8510-16bfeb901f1b",
        "colab": {
          "base_uri": "https://localhost:8080/",
          "height": 34
        }
      },
      "source": [
        "#you need to install xmltodict before importing the library\n",
        "!pip install xmltodict \n",
        "import xmltodict"
      ],
      "execution_count": 0,
      "outputs": [
        {
          "output_type": "stream",
          "text": [
            "Requirement already satisfied: xmltodict in /usr/local/lib/python3.6/dist-packages (0.12.0)\n"
          ],
          "name": "stdout"
        }
      ]
    },
    {
      "cell_type": "markdown",
      "metadata": {
        "id": "SZT1rqh_P5xx",
        "colab_type": "text"
      },
      "source": [
        "Okay, time to get some data! Let's keep it simple for now, and just put all the user shelves into a list called `shelf_list`."
      ]
    },
    {
      "cell_type": "code",
      "metadata": {
        "id": "I9np_7auP4jP",
        "colab_type": "code",
        "outputId": "003dde12-d8d1-47fc-eb0c-ebf1637ff19e",
        "colab": {
          "base_uri": "https://localhost:8080/",
          "height": 34
        }
      },
      "source": [
        "#parse the data with xmltodict and put the new json-formatted data in the shelf_data variable\n",
        "shelf_data = xmltodict.parse(res.text)\n",
        "#declare shelf_list as a list\n",
        "shelf_list = []\n",
        "#Navigate to the individual shelves and put that in a new shelves variable\n",
        "shelves = shelf_data['GoodreadsResponse']['shelves']['user_shelf']\n",
        "#loop through each user_shelf and store the shelf name in the shelf_list list\n",
        "for shelf in shelves:\n",
        "  shelf_list.append(shelf['name'])\n",
        "#print our new list\n",
        "print(\"Shelf List:\" , shelf_list)"
      ],
      "execution_count": 0,
      "outputs": [
        {
          "output_type": "stream",
          "text": [
            "Shelf List: ['read', 'currently-reading', 'to-read', 'korean-edition', 'taking-a-break']\n"
          ],
          "name": "stdout"
        }
      ]
    },
    {
      "cell_type": "markdown",
      "metadata": {
        "id": "7N-mItn8dDzK",
        "colab_type": "text"
      },
      "source": [
        "Awesome! We got some real, usable data!\n",
        "\n",
        "Ok, time to use some python functions!"
      ]
    },
    {
      "cell_type": "markdown",
      "metadata": {
        "colab_type": "text",
        "id": "dc9UjKnNTtTh"
      },
      "source": [
        "##5) Utilize Python functions\n",
        "\n"
      ]
    },
    {
      "cell_type": "markdown",
      "metadata": {
        "id": "mhYrbluthbQv",
        "colab_type": "text"
      },
      "source": [
        "\n",
        "---\n",
        "\n",
        "\n",
        "### a. using `map()` to solve Problem 1\n",
        "\n",
        "\n",
        "**Problem 1:**\n",
        "Using the goodreads API we have gotten information on a user's goodreads shelves. Through the documentation we know we can also get information on individual books, including book ratings. I've always been curious on what the average book rating was on each individual user shelf. Are my 'read' books rated higher, on average, than my 'gave-up' books? I also want to know if the books I've shelved in my 2016 shelf are higher-quality (and therefor rated higher) on average, than the books I shevled in my 2017 shelf.\n",
        "\n",
        " \n",
        "\n",
        "**Solution to Problem 1:**\n",
        "After looking through the goodreads API documentation, I saw the [review.list](https://www.goodreads.com/api/index#reviews.list) method would give me a list of books in a user's list, along with the books details. \n",
        "Using that method and a specially crafted function called `avgRatingofShelf`, I'll get the average rating of all the books in a given shelf. Then, I'll use the `map()` function with the `avgRatingofShelf` on the `shelf_list` we made earlier to get the average book rating for each shelf for our user.\n",
        "\n",
        "\n",
        "First thing we need is the url for the API call to the list of books in our shelf:"
      ]
    },
    {
      "cell_type": "code",
      "metadata": {
        "id": "mRrJFB7LVXvw",
        "colab_type": "code",
        "colab": {}
      },
      "source": [
        "books_url = \"https://www.goodreads.com/review/list.xml\""
      ],
      "execution_count": 0,
      "outputs": []
    },
    {
      "cell_type": "markdown",
      "metadata": {
        "id": "o6mGmGyXquib",
        "colab_type": "text"
      },
      "source": [
        "Now, let's make a quick function that will take a result from our API call and add some data we want from that result onto a list. We'll call this function later."
      ]
    },
    {
      "cell_type": "code",
      "metadata": {
        "id": "ZrZ0Bw86pVyF",
        "colab_type": "code",
        "colab": {}
      },
      "source": [
        "def append_rating(books): \n",
        "  #use a list comprehension to compile a list of the average rating for each book\n",
        "  book_data = [float(book['average_rating']) for book in books if isinstance(book['average_rating'],str)]\n",
        "  return book_data"
      ],
      "execution_count": 0,
      "outputs": []
    },
    {
      "cell_type": "markdown",
      "metadata": {
        "id": "dt-V5WurVY-D",
        "colab_type": "text"
      },
      "source": [
        "Now let's make our `build_book_data_list()` function which will call an `append[something]()` function to get the data we want. It will also take a couple more paramters:"
      ]
    },
    {
      "cell_type": "code",
      "metadata": {
        "id": "JkxoGebZUsq3",
        "colab_type": "code",
        "colab": {}
      },
      "source": [
        "#our function takes three arguments, the user shelf we want to look through,\n",
        "#the function we want to call that will append items to our list, and the user_id \n",
        "def build_book_data_list(shelf, appending_func, user_id):\n",
        "  #the first call to the API to get some basic info we'll need, like how many pages we'll have to go through\n",
        "  res_shelf = requests.get(f'{books_url}?key={api_key}&v=1&id={user_id}&shelf={shelf}') #call api\n",
        "  #convert xml to json-like format\n",
        "  books_in_shelf = xmltodict.parse(res_shelf.text)\n",
        "  #get the number of pages in the result\n",
        "  pages = int(books_in_shelf['GoodreadsResponse']['books']['@numpages'])\n",
        "  book_list = []\n",
        "  #loop through each page of results to get the data we want\n",
        "  for page in range(1, pages+1):\n",
        "    #in the loop, we look at each page individually with the extra page parameter\n",
        "    this_page = requests.get(f'{books_url}?key={api_key}&v=1&id={user_id}&shelf={shelf}&page={page}') #call api\n",
        "    #xml to json-like format for this page's result\n",
        "    response_data = xmltodict.parse(this_page.text)\n",
        "    #getting to the book details\n",
        "    books = response_data['GoodreadsResponse']['books']['book']\n",
        "    book_list.extend(appending_func(books))        #pass in our book and list to append to\n",
        "  return book_list #return our list of data"
      ],
      "execution_count": 0,
      "outputs": []
    },
    {
      "cell_type": "markdown",
      "metadata": {
        "id": "te9J9AturGYz",
        "colab_type": "text"
      },
      "source": [
        "The function we just created returns a list of data, we need the average of that list. Let's make one more quick function."
      ]
    },
    {
      "cell_type": "code",
      "metadata": {
        "id": "65SdvgkPrGC7",
        "colab_type": "code",
        "colab": {}
      },
      "source": [
        "def get_avg_rating_of_shelf(shelf):\n",
        "  rating_list = build_book_data_list(shelf, append_rating, user_id) #first call our earlier function to get the list of ratings\n",
        "  #calculate the average rating from our new list\n",
        "  average_rating = 0\n",
        "  if rating_list: #if the list isn't empty, get the average\n",
        "    average_rating = sum(rating_list) / len(rating_list) #get the average\n",
        "  return(\"%.2f\" % average_rating) #return the average to two decimals"
      ],
      "execution_count": 0,
      "outputs": []
    },
    {
      "cell_type": "markdown",
      "metadata": {
        "id": "Kywk50BHA0jE",
        "colab_type": "text"
      },
      "source": [
        "\n",
        "Ok, that's our function.\n",
        "\n",
        "Let's do a test run on our 'read' shelf:\n",
        "(Disclaimer: this does take some time to run because it has to do a new API call for each page of results!)\n",
        "\n"
      ]
    },
    {
      "cell_type": "code",
      "metadata": {
        "id": "2n57FSvAZquO",
        "colab_type": "code",
        "outputId": "aa0a7b36-04f3-4d45-ebb2-c2c04b830565",
        "colab": {
          "base_uri": "https://localhost:8080/",
          "height": 34
        }
      },
      "source": [
        "get_avg_rating_of_shelf('read')"
      ],
      "execution_count": 0,
      "outputs": [
        {
          "output_type": "execute_result",
          "data": {
            "text/plain": [
              "'4.07'"
            ]
          },
          "metadata": {
            "tags": []
          },
          "execution_count": 45
        }
      ]
    },
    {
      "cell_type": "markdown",
      "metadata": {
        "id": "sxt2QMEbZ9tx",
        "colab_type": "text"
      },
      "source": [
        "Awesome, it works!\n",
        "Ok, Lets use the `map()` function now on our list and see our results!"
      ]
    },
    {
      "cell_type": "code",
      "metadata": {
        "id": "_Kcqu1IKaFCG",
        "colab_type": "code",
        "outputId": "7020fba9-6b66-4498-d4ae-ab4514e6dd3e",
        "colab": {
          "base_uri": "https://localhost:8080/",
          "height": 51
        }
      },
      "source": [
        "rating_list = list(map(get_avg_rating_of_shelf, shelf_list))\n",
        "print(\"Shelf List:\", shelf_list) #our shelves\n",
        "print(\"Ratings List:\", rating_list) #our average ratings per shelf"
      ],
      "execution_count": 0,
      "outputs": [
        {
          "output_type": "stream",
          "text": [
            "Shelf List: ['read', 'currently-reading', 'to-read', 'korean-edition', 'taking-a-break']\n",
            "Ratings List: ['4.07', '3.96', '4.07', '4.17', '4.08']\n"
          ],
          "name": "stdout"
        }
      ]
    },
    {
      "cell_type": "markdown",
      "metadata": {
        "id": "90v2l0QEf_Xr",
        "colab_type": "text"
      },
      "source": [
        "As you can see, the map function ran the function for each item in our list, and we got a result list with the returned values for each item. \n"
      ]
    },
    {
      "cell_type": "markdown",
      "metadata": {
        "id": "r4vOOPGcgLjV",
        "colab_type": "text"
      },
      "source": [
        "\n",
        "\n",
        "\n",
        "\n",
        "---\n",
        "\n",
        "\n",
        "### b. using `reduce()` to solve Problem 2\n",
        "\n",
        "\n",
        "**Problem 2:**\n",
        "Keeping this one a little more simple, I just want to see the total number of books on all a user's shelves. \n",
        "\n",
        "**Solution to Problem 2:**\n",
        "Using the [reviews.list](https://www.goodreads.com/api/index#reviews.list) method and python's `reduce()` function we can a list of all the totals per shelf and then quickly add them all up!\n",
        "\n",
        "In the XML return data we saw before, I noticed an element called `book-count` for each `user-shelf` element. In there, there was an attribute called #text which is what we will need to save in our new list.\n",
        "\n",
        "We already called the reviws.list API, so lets use our previous variables to call up the new data we need."
      ]
    },
    {
      "cell_type": "code",
      "metadata": {
        "id": "4Ye3Op0igeiY",
        "colab_type": "code",
        "outputId": "3b8a2419-2e45-4a84-8ea9-3f35034b8aa8",
        "colab": {
          "base_uri": "https://localhost:8080/",
          "height": 34
        }
      },
      "source": [
        "#remember our old friend, shelf_data? It holds all the json-formatted API return data from earlier\n",
        "#Navigate to the individual shelves and put that in a new shelf_totals variable\n",
        "shelf_totals = shelf_data['GoodreadsResponse']['shelves']['user_shelf']\n",
        "#use list comprehension to make a list of the total books per list\n",
        "totals_list = [int(shelf['book_count']['#text']) for shelf in shelf_totals]\n",
        "#print our new list\n",
        "print(\"Totals List:\", totals_list)"
      ],
      "execution_count": 0,
      "outputs": [
        {
          "output_type": "stream",
          "text": [
            "Totals List: [222, 2, 107, 2, 2]\n"
          ],
          "name": "stdout"
        }
      ]
    },
    {
      "cell_type": "markdown",
      "metadata": {
        "id": "TQUrhKu2zcTL",
        "colab_type": "text"
      },
      "source": [
        "Cool! Now we have a list of numbers! Before we can call the `reduce()` function on this list, we need to import it."
      ]
    },
    {
      "cell_type": "code",
      "metadata": {
        "id": "AO5ApMj_1CYt",
        "colab_type": "code",
        "colab": {}
      },
      "source": [
        "from functools import reduce"
      ],
      "execution_count": 0,
      "outputs": []
    },
    {
      "cell_type": "markdown",
      "metadata": {
        "id": "XVZFpg4v1FUd",
        "colab_type": "text"
      },
      "source": [
        "And we also need to create a function that will actually be doing the addition!\n",
        "\n",
        "(Note: the addition can also be done using `operator.add` if `operator` is imported.) "
      ]
    },
    {
      "cell_type": "code",
      "metadata": {
        "id": "bVtLHVTm1EXu",
        "colab_type": "code",
        "colab": {}
      },
      "source": [
        "def add_it_up(x, y): \n",
        "  return x + y"
      ],
      "execution_count": 0,
      "outputs": []
    },
    {
      "cell_type": "markdown",
      "metadata": {
        "id": "0wkL2NLN0U0y",
        "colab_type": "text"
      },
      "source": [
        "Alright! Time to call `reduce()`!"
      ]
    },
    {
      "cell_type": "code",
      "metadata": {
        "id": "hVU5CWbzzg_a",
        "colab_type": "code",
        "outputId": "2306074c-5039-456d-85c4-b4846e7f61d7",
        "colab": {
          "base_uri": "https://localhost:8080/",
          "height": 34
        }
      },
      "source": [
        "book_total = reduce(add_it_up, totals_list)\n",
        "print(\"Total number of books:\", book_total)"
      ],
      "execution_count": 0,
      "outputs": [
        {
          "output_type": "stream",
          "text": [
            "Total number of books: 335\n"
          ],
          "name": "stdout"
        }
      ]
    },
    {
      "cell_type": "markdown",
      "metadata": {
        "id": "8VW06Rut1hKa",
        "colab_type": "text"
      },
      "source": [
        "As you can see, the `reduce()` function helped us add up all the numbers in the list. We used `reduce()` for a simple sum of the list, but it can actually be much more powerful than that. It calls a given function on the first two items on the list, then that result plus the next item, and so on, until the end of the list. So it is able to calculate or perform operations on an entire list and return you one result in the end. "
      ]
    },
    {
      "cell_type": "markdown",
      "metadata": {
        "id": "NVRcEe1iZZIk",
        "colab_type": "text"
      },
      "source": [
        "\n",
        "---\n",
        "\n",
        "\n",
        "  ### *.MatPlotLib Extra\n",
        "\n",
        "\n",
        "Let's show a quick graphic of the data we just pulled out of the API using the [matplotlib](https://matplotlib.org/index.html) library.\n",
        "\n",
        "First let's import the library:"
      ]
    },
    {
      "cell_type": "code",
      "metadata": {
        "id": "49Zaa8hGkZsn",
        "colab_type": "code",
        "colab": {}
      },
      "source": [
        "import matplotlib.pyplot as plot"
      ],
      "execution_count": 0,
      "outputs": []
    },
    {
      "cell_type": "markdown",
      "metadata": {
        "id": "9JIL91dMkzSv",
        "colab_type": "text"
      },
      "source": [
        "Now let's do a quick calculation of the percentage of total books that each shelf holds. \n",
        "\n",
        "We'll do this using our `map()` and `lambda expression`s. `lambda expression` will perform a division of each item by the total number of books, as `map()` iterates through the list."
      ]
    },
    {
      "cell_type": "code",
      "metadata": {
        "id": "YXWGasS2eaNC",
        "colab_type": "code",
        "colab": {}
      },
      "source": [
        "shelf_percentage = list(map(lambda x: x/book_total, totals_list))"
      ],
      "execution_count": 0,
      "outputs": []
    },
    {
      "cell_type": "markdown",
      "metadata": {
        "id": "552TL8UflOF2",
        "colab_type": "text"
      },
      "source": [
        "After looking through the documentation of matplotlib, I decided to use a simple pie chart. \n",
        "\n",
        "First, let's set up the labels and percentages to show correctly in our chart:"
      ]
    },
    {
      "cell_type": "code",
      "metadata": {
        "id": "2rsorsuilcr7",
        "colab_type": "code",
        "colab": {}
      },
      "source": [
        "labels = shelf_list #label each with the shelf-name\n",
        "sizes = shelf_percentage #the size is the percentage we calculated earlier\n",
        "explode = (0, 0.2, 0, 0.2, 0.4)  #pull out the smaller slices so they are readable"
      ],
      "execution_count": 0,
      "outputs": []
    },
    {
      "cell_type": "markdown",
      "metadata": {
        "id": "tHFrAdZZlgBg",
        "colab_type": "text"
      },
      "source": [
        "Now we'll set the subplots of the chart, build the chart, and set the axis aspect ratio to show a circle. Lastly, we'll display the chart."
      ]
    },
    {
      "cell_type": "code",
      "metadata": {
        "id": "HL2hKh9SgDhd",
        "colab_type": "code",
        "outputId": "2fed35a6-4a39-452c-b7b5-161e0bbc060c",
        "colab": {
          "base_uri": "https://localhost:8080/",
          "height": 255
        }
      },
      "source": [
        "fig1, ax1 = plot.subplots() #plots the graphic with a figure and axis elements\n",
        "#call the function that creates the graphic with all the parameters we set\n",
        "ax1.pie(sizes, explode=explode, labels=labels, autopct='%1.1f%%', \n",
        "        shadow=True, startangle=90) \n",
        "ax1.axis('equal')  # Equal aspect ratio ensures that pie is drawn as a circle.\n",
        "plot.show() #display the graphic!"
      ],
      "execution_count": 0,
      "outputs": [
        {
          "output_type": "display_data",
          "data": {
            "image/png": "[encoded data removed]",
            "text/plain": [
              "<Figure size 432x288 with 1 Axes>"
            ]
          },
          "metadata": {
            "tags": []
          }
        }
      ]
    },
    {
      "cell_type": "markdown",
      "metadata": {
        "colab_type": "text",
        "id": "TzVuIt0whkex"
      },
      "source": [
        "\n",
        "\n",
        "\n",
        "\n",
        "---\n",
        "\n",
        "\n",
        "### c. using `filter()` to solve Problem 3\n",
        "\n",
        "\n",
        "**Problem 3:**\n",
        "The goodreads API has a compare.list method which is supposed to check which books one user has in common with another user. However, the compare.list method requires the use of OAuth which we are not using for this project. But, I still want to see which books I have in common with my friend on our 'read' shelf. \n",
        "\n",
        "\n",
        "**Solution to Problem 3:**\n",
        "We can create two lists, one with all the books on my 'read' shelf, and another with my friend's 'read' shelf. Then, using the `filter()` on those two lists, we can get a new list of only our books in common! I'm going to get the ISBN of each book as it will be more unique than the title or author. \n",
        "\n",
        "First let's declare our friend's goodreads user_id and shelf as the 'read' shelf.\n",
        "\n",
        "(Side note: every goodreads user has a 'read', 'to-read', and 'currently reading' shelf.)"
      ]
    },
    {
      "cell_type": "code",
      "metadata": {
        "id": "zJcXayFz4NN-",
        "colab_type": "code",
        "colab": {}
      },
      "source": [
        "user_id_friend = '40006310-rs'\n",
        "shelf = 'read'"
      ],
      "execution_count": 0,
      "outputs": []
    },
    {
      "cell_type": "markdown",
      "metadata": {
        "id": "FJ6lbqdC4RpV",
        "colab_type": "text"
      },
      "source": [
        "Now let's use our `build_book_data_list()` that we created before, we just have to edit the data we want to pull with a new `appendSomething()` function:\n"
      ]
    },
    {
      "cell_type": "code",
      "metadata": {
        "id": "5REONva-3SSN",
        "colab_type": "code",
        "colab": {}
      },
      "source": [
        "def append_isbn(books):\n",
        "  #use a list comprehension to compile a list of the isbns for each book\n",
        "  book_data = [book['isbn'] for book in books if isinstance(book['isbn'],str)]\n",
        "  return book_data"
      ],
      "execution_count": 0,
      "outputs": []
    },
    {
      "cell_type": "markdown",
      "metadata": {
        "id": "-YqroKQE7lb7",
        "colab_type": "text"
      },
      "source": [
        "Great! Lets call the `build_book_data_list()` function on both of our users now, to create the two new lists of books. \n",
        "\n",
        "(Note, the more books a user has in their list, the longer this will take as it has to make a new API call for each page of results.)"
      ]
    },
    {
      "cell_type": "code",
      "metadata": {
        "id": "LgHK0P9U5EWX",
        "colab_type": "code",
        "colab": {}
      },
      "source": [
        "my_list = build_book_data_list(shelf, append_isbn, user_id)\n",
        "my_friends_list = build_book_data_list(shelf, append_isbn, user_id_friend)"
      ],
      "execution_count": 0,
      "outputs": []
    },
    {
      "cell_type": "code",
      "metadata": {
        "id": "QDhY4LX65RP7",
        "colab_type": "code",
        "outputId": "e4b5d473-789f-457f-d7d2-70073aa262ba",
        "colab": {
          "base_uri": "https://localhost:8080/",
          "height": 71
        }
      },
      "source": [
        "print(\"My List:\", my_list)\n",
        "print(\"My Friend's List:\", my_friends_list)"
      ],
      "execution_count": 0,
      "outputs": [
        {
          "output_type": "stream",
          "text": [
            "My List: ['0312642989', '0312642970', '0316469777', '1492671525', '1911475274', '0425163407', '081299826X', '0312642962', '0520274067', '1260151778', '1683690397', '0385338694', '0440241901', '0061161640', '0520266978', '1632062143', '0060502932', '1250135028', '1416914285', '0062439626', '1476778159', '0441013813', '0385351232', '1250165342', '1442408928', '1250316774', '0451155750', '0425215679', '0142001805', '0525951989', '1442472456', '1594749477', '0765375869', '1442472421', '0393324826', '0812550706', '0786838655', '0061234001', '0061001783', '0670024856', '014044906X', '0884271781', '0385743602', '147671746X', '8925556782', '1419727729', '0399590501', '0375751513', '159606885X', '1401308589', '1501181823', '0425284689', '0385743580', '006245773X', '0449818438', '1984801813', '8983920696', '8983920688', '082483867X', '0824838130', '1596064854', '0385743564', '0525522875', '0812517725', '0812511816', '1593080425', '0061020710', '0765376679', '0751565350', '0752816993', '0373076312', '0375831002', '1503934152', '0525426582', '0425148297', '0670026603', '0525422943', '0525421033', '0765378558', '0765330423', '075640407X', '0515105198', '1420925539', '1507696639', '151937271X', '0060853980', '1477823832', '030788743X', '0374500010', '0451457811', '0618062416', '0747263744', '0316056863', '0765316897', '0765316889', '0439861365', '0066238501', '0156012197', '0440227534', '0753454939', '0440439884', '006440188X', '0061125253', '006112527X', '0307277674', '1853260045', '0192802631', '0439023491', '0439321611', '0439023513', '0141311924', '0743454537', '0142300497', '0451528522', '0061125261', '0440471478', '0141311371', '1402714548', '0141318309', '1435114884', '043965548X', '0141301155', '0439358078', '0545010225', '0312330871', '1853260126', '0451528956', '0439064864', '0439785960', '0141439602', '0141439580', '0062200461', '1563127873', '0143104403', '141693586X', '0743477111', '0486282228', '0142437204', '0679889108', '0060513039', '0385346999', '0307886263', '0062268341', '0140621679', '0517223627', '0330398008', '0439321603', '0394820371', '0440498058', '0060776005', '0689862202', '076531178X', '0618260307', '0765350378', '0316015849', '0375826696', '0439554934', '0385732554', '0452284244', '1416524797', '0439023483']\n",
            "My Friend's List: ['0441018521', '0441017029', '0441015832', '1616207620', '1616205792', '1616203544', '0451492676', '0727888684', '0399583734', '0451469208', '0571178227', '193700788X', '1937007448', '1101886005', '0425205959', '0451469194', '1440772045', '0425260747', '0425260739', '0425260720', '0316524603', '0425251764', '042524668X', '0143035304', '0425242188', '0451230493', '1250164702', '0525522778', '0062792342', '150117228X', '0062676784', '0060514671', '0385539347', '1472235320', '0451470850', '0451470842', '0451470834', '0060557818', '0765389622', '1473207819', '1984801813', '0399583831', '0441008534', '0340752483', '0451477456', '0451477448', '0399583815', '0425258947', '150670008X', '0765389592', '0425258939', '0060551313', '0425258920', '0425252078', '0425251381', '0399564519', '0425244059', '0425239241', '0451465105', '0451217217', '0385342063', '0425233421', '0451476174', '1250058287', '0061043540', '1250058279', '0451467434', '1250058260', '0451492129', '0765325578', '0553380958', '0143131109', '0156391252', '0451476158', '0451476026', '1629721751', '1250024692', '1250024706', '0316252980', '0312876890', '0822938936', '0451416325', '0060923962', '006104363X', '0061043524', '0151658978', '0061043516', '0061043559', '0451416317', '1492622109', '0061132179', '1250125723', '0802130720', '0062662988', '0525522875', '0312662750', '1447256271', '0143130285', '0143039474', '014303944X', '0062409166', '1429963360', '1101885963', '0142437875', '0345532740', '0425285170', '0802124127', '0451477723', '0380729342', '1473630819', '1447256255', '125001106X', '1476738017', '0340752459', '1770462961', '1770462546', '0451467426', '0593073576', '1617732494', '0807068780', '042528350X', '0765329719', '1250011051', '1250011043', '1590582403', '0062645226', '0441014895', '067972043X', '0062204572', '1590582381', '0099465620', '0990691799', '1599482649', '1590582411', '0061950726', '1481442228', '1590582373', '0425279596', '0425279588', '0425258912', '0765330288', '0425258904', '1616203536', '0451450523', '0679644059', '1492622079', '0451467418', '0375755195', '0486280578', '0374526788', '0451240626', '0451238982', '0451236637', '1101981202', '1120334195', '0435124773', '0765368102', '0316190284', '0689829574', '0765378256', '006170637X', '0451474902', '0451474899', '0756402646', '077106943X', '0340752475', '1593080425', '075154454X', '031619008X', '0007246226', '1101885939', '0743255062', '1400031362', '0060106166', '1447256239', '0380772116', '1453778039', '0765387891', '0425258890', '1250028167', '0099476363', '1583305769', '0873065700', '0899068235', '0399149546', '0451467035', '0758254245', '0758254237', '1416914285', '0857534831', '0743412028', '0312661762', '0312661754', '1931520763', '0590876120', '0307406644', '0451467019', '0307236013', '159474758X', '1594747350', '0340896965', '1616962186', '0062297376', '0452296293', '0062313851', '1595406557', '0023134607', '0140621954', '0316069051', '0804178429', '0804178321', '0062255657', '0312383797', '0060775858', '0061174149', '0312573472', '0393329801', '0804197954', '0393320979', '0821726870', '0192751077', '1399269690', '0142501182', '0142501093', '0142501085', '0142401447', '0142402451', '0142400300', '0441001866', '0142501522', '0441006108', '0441005764', '0142302392', '0380789833', '141650964X', '0689845367', '0061054879', '0446585025', '0451466993', '0316204277', '0756407680', '0425283488', '1250052041', '0448413388', '0575132558', '0575132507', '0756409608', '0060548959', '1476763232', '1476763143', '0440229081', '0440416051', '0449209377', '0007542232', '1841492086', '0316080020', '074340078X', '0743400771', '0425264971', '0283985828', '1560977477', '0751565350', '5511976873', '0451415981', '0451415965', '0451236122', '0451237625', '0451233514', '0451231694', '0451226151', '045122891X', '0689851863', '0441003613', '0441013341', '0441014658', '0441775675', '0345012518', '0205313426', '0345331044', '140278631X', '0062306812', '0312598343', '0425190374', '044101769X', '0441016383', '0441015271', '0441014348', '0099490951', '0062429973', '0809594080', '0142406457', '0152051287', '0385538243', '0765378558', '0425177459', '0425169340', '1889242241', '0142000906', '077104397X', '0425230465', '0425226786', '0425215830', '0425165698', '0062297333', '9780435232', '0451416007', '0553392719', '0765368838', '1562470043', '0312652917', '0062377183', '0385618980', '0143125672', '0064404773', '0375508414', '0312362080', '0670025593', '0670023485', '0152049193', '0152054618', '030788743X', '0670022411', '0002261987', '0399162178', '0312674546', '1250032792', '0756410436', '1476722374', '1476722358', '0765332264', '0756404738', '0805074961', '0143034359', '0142004030', '1783292709', '1444751824', '0922613133', '9657108357', '0062318985', '1592643817', '0618062416', '0316058432', '0060521228', '0060885378', '0064401499', '0142408794', '0192750968', '0316153540', '0525453679', '0142402257', '0141303484', '0141304715', '0440415837', '0448095025', '1557091617', '0312997116', '0805081135', '0448095114', '0857521748', '0373771665', '1400096472', '0765327996', '076532797X', '0765318482', '0765318474', '0765352745', '0765305097', '0765318431', '1250007429', '0312537573', '0312699417', '0743274903', '1416547258', '0752859668', '080508049X', '0064407217', '0064405737', '0141312416', '0552562521', '0590225170', '0618164413', '014016233X', '1406806714', '0451466802', '045146365X', '0451464397', '006155314X', '0061131873', '0142406430', '0805082751', '0451464400', '096770443X', '0873063791', '0873062493', '0873067371', '1560621761', '1560620803', '1560622105', '1560622970', '1578192935', '1578197716', '0899062865', '1578191483', '1578195233', '1578197805', '1578192501', '0307021343', '0448405202', '0142402494', '0140998128', '0873066006', '0873066677', '0899067727', '0451463471', '0786856866', '0451462564', '0451462009', '1592406521', '0451461037', '044101268X', '045146091X', '075640407X', '0765346508', '0765341948', '0441008658', '0515138819', '0060598239', '0544272994', '0451459873', '0152000933', '0152060847', '0152052178', '043906628X', '068985692X', '0671794019', '0671747827', '1468301705', '0755379993', '0439443369', '0141383356', '078685149X', '0141321318', '0786851473', '1619634856', '0727881698', '0727869744', '0727869108', '1569475881', '1569475113', '0786719907', '1857230809', '006008460X', '0451459407', '159058385X', '0142404063', '0142400297', '0803733771', '0142407631', '184255574X', '0312367171', '0312367163', '0312367147', '0451458923', '1416509631', '0544212479', '0345507460', '0312622864', '0312622856', '0312622848', '9791680000', '0380974738', '0006497012', '0586064176', '0586066888', '0553564935', '0380720868', '0345416902', '0439471443', '0689867468', '0763653160', '1406337625', '0670011789', '1587157047', '0318518899', '1163508063', '0140367659', '0140367667', '0486436489', '0140367519', '0141310340', '0142404128', '0899661211', '0099493683', '009947445X', '0099493640', '0099468050', '0553132393', '0099468093', '0099474468', '0099468042', '0099465582', '0099465590', '0099468034', '0099468085', '0099474425', '0061001783', '0099465833', '0099465647', '0446572594', '0451458443', '080701429X', '0805096329', '0805082522', '0061913014', '0060988657', '0060987529', '068484866X', '0684818442', '0575073608', '0230704581', '0142409111', '0142501840', '0142408654', '0316252905', '1619698366', '1908458127', '0307907171', '0440236967', '1585672319', '0393339807', '0393345998', '0393339785', '1585673927', '0393343774', '0399256636', '0440419808', '0385732538', '0385732562', '0553575937', '0451458125', '0765326582', '0765347989', '076534775X', '0765312824', '0765326574', '0345482409', '0765304961', '1841492051', '0765340054', '0812565959', '0062298097', '0312583974', '0312583966', '0425245675', '0425242897', '0425207463', '0345348656', '0887768504', '0425177017', '0312544901', '0590400258', '0064401480', '0765356598', '0765317273', '0425251934', '0425251438', '0425242226', '0425233138', '0425229114', '0425226409', '0312998376', '0312998007', '0312936168', '0312997167', '0446608289', '0446612049', '0446403407', '0446606987', '0446609315', '0804112118', '0446403393', '0446613711', '0446614890', '0446606014', '0446403385', '0446618136', '0804112126', '0804111022', '0446617199', '0892960108', '0804107688', '0446196134', '0446582603', '0446614734', '0804109125', '0446614726', '0446607142', '0446607134', '0312939167', '1250052033', '1250052025', '1466850574', '1250033543', '0425178889', '1250011663', '0425172619', '1250011639', '0312628110', '0312385404', '0312628102', '0312349432', '031238534X', '0425166422', '0425260364', '0312328192', '0312997019', '0312997000', '0312989040', '0312989687', '042526002X', '0425252787', '0425243494', '0312984979', '042522788X', '0425234460', '0425221636', '014044906X', '1862301387', '0671037706', '014034893X', '0380729407', '051722285X', '0747532036', '0689867042', '006114844X', '1557091552', '0425215679', '0142004332', '0689821727', '0064408566', '0140363912', '0142401099', '0439813786', '0380714752', '0143038095', '0439295785', '1402726023', '0811214044', '0140449108', '1580495931', '1580495869', '0743457587', '0786704772', '1416924213', '0816712697', '0064408493', '1405221496', '0763649686', '0439856280', '1550379240', '0824965981', '1406503258', '0486264718', '0140437886', '0451530098', '1406953539', '1595406441', '1406914835', '0486280594', '0099493691', '0143037498', '019517500X', '0486275485', '0451528808', '0140447571', '145164308X', '1416534601', '0340995793', '0743298853', '0425182789', '0553263579', '0316010138', '000712774X', '0553564943', '0142501107', '0425102319', '1579125786', '0060809086', '1400032717', '0451457811', '0143039482', '0141185538', '0582461502', '014200068X', '0142000698', '0385335970', '0374480095', '067973225X', '0743253973', '1905294964', '1905294719', '1903434777', '142311339X', '1416523715', '0440238609', '0679433139', '0060529962', '0316187747', '0689856660', '0689856695', '0020425716', '0689856725', '0192839934', '074348486X', '0743477561', '074347757X', '074348276X', '0553296345', '0573618003', '000712077X', '0573702446', '0062249223', '0007145365', '1419129090', '0899665535', '1406932167', '1406954349', '0553211951', '0553211587', '0451528352', '0553283871', '0770422462', '0553560689', '0553213679', '0553213814', '0553213776', '0553213784', '0553269224', '055323370X', '0553213156', '0808516965', '0553213148', '0553213172', '0765306794', '0061229652', '0142402575', '0763631620', '1558820620', '0007169922', '0486270653', '002018400X', '0821718819', '0881842206', '1558820175', '0930330382', '0060809817', '0786701013', '0060810165', '0020188404', '0307379205', '1563127873', '0440439884', '0440227534', '0141311924', '0451528522', '0142300497', '0141318309', '0330398008', '0060776005', '0486282228', '141693586X', '0440471478', '0140007709', '0062129554', '1572702311', '0573012989', '0886462479', '0573616396', '0002239221', '0399150218', '0440192285', '0425165159', '0312981678', '0425100413', '0312979738', '0002315963', '0007154925', '000649045X', '0451201183', '0007121083', '0312981627', '0312970072', '0006499627', '1572702842', '0007154844', '0007121016', '0312981716', '0007111509', '0451200527', '0007122586', '0312979827', '0007151675', '0007154828', '0425205975', '1572705477', '1572704578', '0007122594', '0007136854', '0312981619', '0007121024', '0007120796', '0007121105', '1572707313', '1572705647', '0007111452', '0312981597', '1572703857', '0007120869', '0007120710', '1572703938', '0451199901', '0425173909', '0002310015', '0007120680', '0451199928', '031298166X', '0425067823', '0007120842', '0002314576', '0451200187', '1579126952', '000711933X', '0007120818', '0425067947', '0002317850', '0451199863', '0425205967', '0007119305', '0007120699', '0007119356', '0007120982', '0425173747', '0007113803', '1579126936', '1579126294', '1579126286', '157912626X', '1579126243', '0062292552', '0857521225', '0385611005', '0061370509', '006206777X', '0857522272', '0552154164', '0552154288', '0552152951', '0688168434', '0062219898', '0060087846', '0380718510', '0006755283', '0064473546', '0064473570', '0064473597', '0749702818', '0142407186', '0064473511', '073943389X', '006076371X', '0060763698', '0064473139', '0007128959', '0061148326', '0060747455', '0060298782', '0060298790', '0061477958', '0688163653', '000710653X', '0064473457', '1401322786', '1434655636', '1930142021', '1406931187', '014039091X', '0143122460', '1406501026', '1406927708', '1931082731', '0140277293', '0440223016', '1419122126', '1406501077', '1406954365', '073945059X', '0803734670', '054503342X', '0152050523', '015204566X', '0739438034', '0439842972', '193418005X', '0590396056', '0590554107', '0590554085', '0439968089', '0375847111', '0375814698', '1416903372', '0375828788', '1416903437', '0689878583', '0689878567', '0689878575', '1608196259', '1599908735', '1582349061', '0689877870', '0440226686', '0061142026', '0439709105', '0689878559', '1582349908', '0375826726', '0439554004', '0439206472', '0375840400', '0689875347', '0375822747', '0345538374', '0375806814', '0553328255', '038039586X', '0812550706', '067001690X', '0671727796', '0060256656', '0140283331', '0156012197', '1853260908', '1853261165', '0553269216', '0007202326', '000720230X', '0060764902', '0439321611', '0747599874', '0439064864', '0321107217', '1406945862', '0141439807', '0395576474', '0618009361', '0618391118', '0345371984', '0345455290', '0671742515', '0345418778', '0330491237', '0345453743', '0449217213', '0345492374', '0449208281', '0151012520', '0446528056', '0064409597', '0486223051', '0140441700', '0140440755', '0812970063', '015694877X', '0394848365', '0060513098', '1592402038', '031610969X', '0156030306', '0553278223', '0553803700', '0192123092', '0006512275', '0450033406', '0099493721', '0099493667', '0061043532', '1600963943', '0449213943', '0345491149', '0345484266', '0061120073', '0140436227', '0142437239', '0752865331', '0316196991', '0671011367', '0394757645', '0836218051', '0836220889', '0689711735', '0553264931', '0142437018', '0439366771', '0007173687', '0060513063', '0590032496', '0141311371', '0679805273', '0241003008', '039484484X', '0688143202', '0375814248', '039480001X', '0141301066', '038072801X', '0142408808', '0440800463', '0747571775', '0747569118', '0425193829', '0380731509', '0142401110', '0007148984', '0380709244', '0064400565', '0142403881', '0060513039', '037582913X', '0394800168', '0060885424', '0007174160', '0590414291', '0394872177', '0064441555', '039515023X', '0064410935', '0446693804', '1596912855', '0440241413', '0312291639', '0385338694', '0060839783', '0316322407', '0374500010', '0060739495', '0439244196', '0786838655', '0061043575', '0743298020', '0007151667', '0061043605', '0006512593', '0060923954', '1597801607', '1572704721', '0755334434', '0007120702', '0582416396', '0646418432', '0755108876', '0061043583', '0099493756', '0061043494', '0425093255', '1420925539', '0385342306', '037581468X', '1416936491', '0385733135', '1599900734', '0590920685', '0439321603', '0441328091', '0064400581', '0064408671', '0440228891', '067122350X', '0440416795', '0394820371', '0440498058', '0060987103', '0441019579', '0007320787', '0765326329', '0399246770', '0545136059', '1406308617', '0440229774', '0152166637', '015205118X', '0590554093', '0152049428', '0805080511', '080508052X', '1416949674', '0679879250', '0142401420', '0316056146', '0142500879', '0064410188', '0439554810', '0590554115', '0152047387', '1416949658', '0679879242', '0765350378', '1904271359', '0451528182', '0140424385', '0192834401', '0451528956', '0679444734', '0517092913', '0192840509', '0451529758', '0140183523', '0141439491', '0753453800', '1854596373', '015602764X', '0743477545', '1593082649', '0515105198', '1585678759', '089577254X', '0142437174', '0425200450', '0440242940', '1579126278', '0451528018', '0812550757', '1400034779', '0439358078', '0345339738', '0439785960', '0316074314', '0452287022', '1435144570', '0345418905', '0007491565', '0521618746', '0553119222', '0345528670', '1579126251', '0765342405', '006112527X', '0385335997', '0451527747', '0312330871', '0385351232', '0140439072', '0307959856', '0385732554', '0060530928', '0066238501', '0765316897', '076531178X', '0765316889', '1401308589', '0439554934', '0312981694', '1576469239', '1582349436', '0441013465', '0152056181', '0545048869', '0375757856', '0142001805', '0312181965', '0152020683', '0543895149', '0486400190', '1435122941', '0688120490', '0760704066', '0517266555', '0143039091', '0805072454', '0140621679', '0373836082', '031299138X', '0060913800', '009949373X', '051511023X', '1572704977', '0060775971', '0805072063', '0064400204', '0060935472', '0440226708', '0965476022', '0573619239', '0553383043', '0573018294', '0552144312', '0061131628', '141914698X', '0140367462', '015202073X', '0152020799', '014036739X', '048645147X', '0140367438', '0140367624', '0140367527', '0142405493', '0064473163', '0805080503', '0689840349', '0805080481', '0441002374', '0670062480', '0399246754', '0446606332', '0064410382', '068987121X', '0062009494', '0061433012', '0062067753', '0061056901', '006001234X', '0061161705', '038561926X', '0385611072', '0552154180', '0060890312', '0380821214', '0575058080', '0061051586', '0413771164', '0552152943', '0061161640', '0552154229', '0061020656', '0061031321', '057506689X', '055215315X', '055255264X', '0552152676', '0061020613', '0061020672', '0552153257', '0061092193', '0061020664', '0060012382', '0552152978', '0061020702', '0060502932', '0060855908', '055215430X', '0061020648', '0060855924', '0060853980', '0618260307', '0375826696', '0517189607', '0440995779', '0439861365', '0451528824', '0316015849', '0345418263', '0440238153', '0375831002', '0765330423', '0743477553', '0316323705', '0545010225', '0618346252', '8188280976', '0786817879', '0375856110', '1480068004', '006441034X', '0517223627', '043965548X', '0553571001', '1589199502', '0441010164', '0064402819', '0140309314', '0142300276', '0375413359', '0140367357', '1599900203', '0441008291', '0765343576', '0060880449', '0060298898', '0060876271', '0763640670', '0856761222', '0142406309', '0553262149', '0486455599', '1416940286', '0590462253', '0142400106', '044046126X', '0142400580', '0553157248', '1561371734', '0152047328', '0670557110', '0192750976', '0152047379', '0439228905', '0753454947', '0763634816', '1416971688', '0618055231', '0060775734', '0142302082', '0805089683', '0765342197', '0440227674', '0553586971', '0142407224', '0441016308', '044022909X', '0439895766', '0020421907', '069811972X', '0441013252', '0060841826', '0689864353', '0385327900', '044100928X', '0152024689', '1557429162', '1605977276', '0486419282', '0099474395', '0099465639', '0143039563', '0446675539', '0141026391', '0373836066', '0553280511', '0140620192', '0192802631', '0140367543', '0440486874', '0770422454', '1576469115', '1406501069', '1428045961', '0553480286', '0553565923', '0770422470', '0140367586', '1887840133', '1576463214', '1934169234', '0543896609', '0543895882', '1416916172', '0152949941', '1853261106', '0140367063', '0689849109', '1598183605', '1596056665', '0253203635', '0316030899', '077106165X', '0316030848', '0060885416', '0553213180', '0141439580', '0142000671', '014043478X', '0141439610', '0691160597', '0152055363', '0575075368', '1416905278', '0575075376', '0142401323', '0451530241', '0140366709', '0698119746', '0142500585', '0439554829', '0064473155', '0590396560', '015204941X', '0152055428', '0142401609', '0765342456', '0152055088', '015205491X', '0152016090', '0805081097', '0064473554', '0142412775', '0805082514', '0689869312', '0446608556', '1587170248', '0152511601', '0007154690', '0152012001', '0441006787', '0441759734', '0152055487', '1416905324', '0590955888', '0590396439', '0064473147', '0441011578', '0152055037', '0060523204', '0439441722', '0152049118', '0061131245', '0765353466', '0142401617', '0152055304', '0142401625', '0312853696', '0618150730', '0142401587', '0142403202', '0451457633', '0399252894', '0618150749', '0142403571', '0375814701', '0545033438', '0141312629', '0441014437', '0142402443', '0375829636', '0060555351', '0805081100', '0670060704', '0064406040', '0142407844', '0439554799', '0805081089', '0441005837', '0375833641', '0689869991', '1416940162', '1416934715', '1416939156', '1599901676', '0060575808', '1582349010', '0060734086', '1599900513', '0152052216', '037583365X', '015205300X', '0399246762', '0441012434', '0765342472', '0765342324', '0060298855', '0441012396', '0441004385', '0812534972', '0698119606', '0152055568', '0152051252', '0152045651', '0679889175', '006447268X', '0152046917', '059039696X', '0152052070', '1416903445', '0441068804', '0142301515', '141690817X', '0152046925', '0152051260', '141692499X', '0061020680', '0618346260', '0452284244', '0142000655', '155970361X', '140695716X', '1420927159', '0743484878', '158049580X']\n"
          ],
          "name": "stdout"
        }
      ]
    },
    {
      "cell_type": "markdown",
      "metadata": {
        "id": "V0xmko3A7-ZM",
        "colab_type": "text"
      },
      "source": [
        "Great! Now that we have the two lists, let's use `filter()` to get a single new list of only our books in common. The first thing we need is a function that will check if an item in one list is also in the other."
      ]
    },
    {
      "cell_type": "code",
      "metadata": {
        "id": "gyJAiOso8E1k",
        "colab_type": "code",
        "colab": {}
      },
      "source": [
        "def filter_books(my_friends_book):\n",
        "  return my_friends_book in my_list"
      ],
      "execution_count": 0,
      "outputs": []
    },
    {
      "cell_type": "markdown",
      "metadata": {
        "id": "CdCOvn5C97bn",
        "colab_type": "text"
      },
      "source": [
        "Now, let's call the `filter()` function! Our first argument is the `filter_books()` function and the second is the `myFriendsList`. Remember that we used the `filter_books()` function to check the input against the `myList` list, so we don't need to put the `myList` list into the `filter()` function."
      ]
    },
    {
      "cell_type": "code",
      "metadata": {
        "id": "6QsDSMEe-AUM",
        "colab_type": "code",
        "outputId": "6392dc03-5492-4166-832e-a1961da1d076",
        "colab": {
          "base_uri": "https://localhost:8080/",
          "height": 71
        }
      },
      "source": [
        "filtered_books = list(filter(filter_books, my_friends_list))\n",
        "print(\"Books in common:\", filtered_books)\n",
        "print(\"Number of books in common:\", len(filtered_books)) #see the length of the list to find out how many books were in common"
      ],
      "execution_count": 0,
      "outputs": [
        {
          "output_type": "stream",
          "text": [
            "Books in common: ['1984801813', '0525522875', '1593080425', '1416914285', '0751565350', '0765378558', '030788743X', '0618062416', '075640407X', '0061001783', '014044906X', '0425215679', '0451457811', '1563127873', '0440439884', '0440227534', '0141311924', '0451528522', '0142300497', '0141318309', '0330398008', '0060776005', '0486282228', '141693586X', '0440471478', '0812550706', '0156012197', '0439321611', '0439064864', '0141311371', '0060513039', '0385338694', '0374500010', '0786838655', '1420925539', '0439321603', '0394820371', '0440498058', '0765350378', '0451528956', '0515105198', '0439358078', '0439785960', '006112527X', '0312330871', '0385351232', '0385732554', '0066238501', '0765316897', '076531178X', '0765316889', '1401308589', '0439554934', '0142001805', '0140621679', '0061161640', '0060502932', '0060853980', '0618260307', '0375826696', '0439861365', '0316015849', '0375831002', '0765330423', '0545010225', '0517223627', '043965548X', '0192802631', '0141439580', '0452284244']\n",
            "Number of books in common: 70\n"
          ],
          "name": "stdout"
        }
      ]
    },
    {
      "cell_type": "markdown",
      "metadata": {
        "id": "QPjH9OBI-mGE",
        "colab_type": "text"
      },
      "source": [
        "There you have it, all of the books I have in common with my friend in our 'read' shelves.\n",
        "\n",
        "Another way the `filter()` function can be used to accomplish this same task is to also make use of the Anonymous python `lambda expression` or with `list comprehension` as follows:\n",
        "\n",
        "\n",
        "> `filter(lambda book: book in my_list, my_friends_list) #lambda and filter()`\n",
        ">\n",
        "> `[book for book in my_list if book in my_friends_list] #list comprehension`\n",
        "\n",
        "\n"
      ]
    },
    {
      "cell_type": "markdown",
      "metadata": {
        "id": "1RgGNGVIA1Ou",
        "colab_type": "text"
      },
      "source": [
        "We will discuss more about `lambda expression()` and `list comprehension` soon!\n",
        "\n",
        "> Indented block\n",
        "\n",
        "\n",
        "\n",
        "Let's solve one more problem with `filter()`. I want to see all the book titles in my 'to-read' list that have an average rating above 4.5. Let's use a new `append()` function and our `build_book_data_list()` again."
      ]
    },
    {
      "cell_type": "code",
      "metadata": {
        "id": "pStowRNXvF4z",
        "colab_type": "code",
        "colab": {}
      },
      "source": [
        "def append_ratings_and_title(books):\n",
        "  #use a list comprehension to compile a list of the data for each book\n",
        "  book_data = [[book['title'], float(book['average_rating'])] for book in books if isinstance(book['average_rating'],str)]\n",
        "  return book_data"
      ],
      "execution_count": 0,
      "outputs": []
    },
    {
      "cell_type": "markdown",
      "metadata": {
        "id": "ick4xTLPYaQL",
        "colab_type": "text"
      },
      "source": [
        "Ok, let's call our main function and save the results:"
      ]
    },
    {
      "cell_type": "code",
      "metadata": {
        "id": "BLPG5DV7YI-8",
        "colab_type": "code",
        "colab": {}
      },
      "source": [
        "ratings_list = build_book_data_list(shelf, append_ratings_and_title, user_id)"
      ],
      "execution_count": 0,
      "outputs": []
    },
    {
      "cell_type": "markdown",
      "metadata": {
        "id": "VOZx2YaBZMDf",
        "colab_type": "text"
      },
      "source": [
        "Now let's `filter()` for ratings above 4.5, using `lambda expression` as well:"
      ]
    },
    {
      "cell_type": "code",
      "metadata": {
        "id": "QgZH3iesYxnx",
        "colab_type": "code",
        "outputId": "55a65495-95b8-4246-9824-a843ff3a522a",
        "colab": {
          "base_uri": "https://localhost:8080/",
          "height": 54
        }
      },
      "source": [
        "filtered_list = filter(lambda x: x[1] > 4.5, ratings_list) \n",
        "print(\"Books ratings > 4.5:\", list(filtered_list)) "
      ],
      "execution_count": 0,
      "outputs": [
        {
          "output_type": "stream",
          "text": [
            "Books ratings > 4.5: [['Skyward (Skyward, #1)', 4.55], ['Thunderhead (Arc of a Scythe, #2)', 4.52], ['해리 포터와 마법사의 돌 2 (Harry Potter #1, part 2 of 2)', 4.6], ['해리 포터와 마법사의 돌 1 (Harry Potter #1, part 1 of 2)', 4.61], ['The Way of Kings (The Stormlight Archive, #1)', 4.65], ['The Name of the Wind (The Kingkiller Chronicle, #1)', 4.54], ['Mistborn Trilogy (Mistborn, #1-3)', 4.56], ['Harry Potter and the Prisoner of Azkaban (Harry Potter, #3)', 4.56], ['Harry Potter and the Deathly Hallows (Harry Potter, #7)', 4.62], ['Harry Potter and the Goblet of Fire (Harry Potter, #4)', 4.55], ['Harry Potter and the Half-Blood Prince (Harry Potter, #6)', 4.56]]\n"
          ],
          "name": "stdout"
        }
      ]
    },
    {
      "cell_type": "markdown",
      "metadata": {
        "id": "7f2xSS_NZYBR",
        "colab_type": "text"
      },
      "source": [
        "Now we have a list of titles and ratings above 4.5. You can see how versatile `filter()` can be, especially when used in combination with `lambda expression`s or other functions."
      ]
    },
    {
      "cell_type": "markdown",
      "metadata": {
        "colab_type": "text",
        "id": "UsHEBUT-hkqx"
      },
      "source": [
        "\n",
        "\n",
        "\n",
        "\n",
        "---\n",
        "\n",
        "\n",
        "### d. using `lambda` expressions to solve Problem 4\n",
        "\n",
        "\n",
        "**Problem 4:**\n",
        "I have over 100 books saved in my 'to-read' shelf. How long will it take me to read all of those books?\n",
        "\n",
        "**Solution to Problem 4:**\n",
        "Looking at the return xml for the review.list method, I see a tag named 'num_pages' that has the number of pages for each book. If I read an average of 1 page every certain amount of seconds, I can use an anonymous `lambda` expression together with a `map()` and `reduce()` function to get the total number of hours it would take to read all the books on my to-read list as well as the average amount of time per book. \n",
        "\n",
        "Let's edit our earlier function to put the number of pages per book into a new list."
      ]
    },
    {
      "cell_type": "code",
      "metadata": {
        "id": "1SVdzUUuv6rg",
        "colab_type": "code",
        "colab": {}
      },
      "source": [
        "def append_pages(books):\n",
        "  #use a list comprehension to compile a list of the data for each book\n",
        "  book_data = [int(book['num_pages']) for book in books if isinstance(book['num_pages'],str)]\n",
        "  return book_data"
      ],
      "execution_count": 0,
      "outputs": []
    },
    {
      "cell_type": "markdown",
      "metadata": {
        "id": "1cHGtpjzpDTw",
        "colab_type": "text"
      },
      "source": [
        "Let's call our `build_book_data_list()` function and save the result into  a new variable."
      ]
    },
    {
      "cell_type": "code",
      "metadata": {
        "id": "WN6sgz22DDTT",
        "colab_type": "code",
        "colab": {}
      },
      "source": [
        "pages_list = build_book_data_list(shelf, append_pages, user_id)"
      ],
      "execution_count": 0,
      "outputs": []
    },
    {
      "cell_type": "markdown",
      "metadata": {
        "id": "RUdnXy9gEiPG",
        "colab_type": "text"
      },
      "source": [
        "Using the `map()` as well as `lambda expression`s, let's get a list of the hours it would take to read each book in our list."
      ]
    },
    {
      "cell_type": "code",
      "metadata": {
        "id": "ftPxwnV8DN-y",
        "colab_type": "code",
        "outputId": "40e7a8e4-9cec-4696-8d86-209673ae96fb",
        "colab": {
          "base_uri": "https://localhost:8080/",
          "height": 71
        }
      },
      "source": [
        "#set how many seconds it takes you to read one page\n",
        "seconds = 75\n",
        "seconds_per_hour = 3600\n",
        "#use lambda to calculate the hours it would take to read each number of pages in the pages_list\n",
        "hours_per_book = list(map(lambda pages: pages * seconds / seconds_per_hour, pages_list))\n",
        "print(\"Number of pages:\", pages_list)\n",
        "print(\"Number of hours:\", hours_per_book)"
      ],
      "execution_count": 0,
      "outputs": [
        {
          "output_type": "stream",
          "text": [
            "Number of pages: [144, 827, 552, 133, 308, 64, 367, 439, 513, 454, 400, 296, 320, 304, 404, 374, 448, 394, 288, 224, 394, 288, 522, 485, 387, 368, 422, 289, 352, 315, 483, 359, 423, 402, 324, 374, 323, 504, 320, 336, 435, 303, 324, 377, 320, 354, 325, 501, 288, 237, 252, 384, 417, 256, 600, 416, 352, 367, 148, 196, 208, 288, 342, 416, 224, 55, 160, 291, 436, 235, 232, 209, 248, 88, 386, 325, 705, 814, 464, 210, 1007, 343, 374, 237, 256, 400, 552, 254, 368, 366, 434, 306, 369, 410, 297, 201, 419, 383, 332, 308, 256, 254, 166, 122, 106, 58, 662, 321, 226, 320, 189, 123, 406, 336, 352, 286, 224, 412, 222, 374, 115, 385, 255, 322, 64, 635, 2448, 277, 688, 572, 590, 224, 767, 93, 137, 208, 184, 358, 223, 248, 489, 464, 423, 249, 391, 64, 390, 231, 423, 304, 192, 202, 211, 199, 208, 243, 96, 735, 435, 155, 870, 759, 264, 373, 734, 144, 341, 652, 489, 474, 409, 362, 30, 79, 32, 283, 82, 532, 279, 72, 176, 291, 222, 329, 216, 154, 92, 186, 128, 256, 211, 400, 240, 206, 541, 366, 638, 501, 503, 320, 208, 122, 736, 374, 159]\n",
            "Number of hours: [3.0, 17.229166666666668, 11.5, 2.7708333333333335, 6.416666666666667, 1.3333333333333333, 7.645833333333333, 9.145833333333334, 10.6875, 9.458333333333334, 8.333333333333334, 6.166666666666667, 6.666666666666667, 6.333333333333333, 8.416666666666666, 7.791666666666667, 9.333333333333334, 8.208333333333334, 6.0, 4.666666666666667, 8.208333333333334, 6.0, 10.875, 10.104166666666666, 8.0625, 7.666666666666667, 8.791666666666666, 6.020833333333333, 7.333333333333333, 6.5625, 10.0625, 7.479166666666667, 8.8125, 8.375, 6.75, 7.791666666666667, 6.729166666666667, 10.5, 6.666666666666667, 7.0, 9.0625, 6.3125, 6.75, 7.854166666666667, 6.666666666666667, 7.375, 6.770833333333333, 10.4375, 6.0, 4.9375, 5.25, 8.0, 8.6875, 5.333333333333333, 12.5, 8.666666666666666, 7.333333333333333, 7.645833333333333, 3.0833333333333335, 4.083333333333333, 4.333333333333333, 6.0, 7.125, 8.666666666666666, 4.666666666666667, 1.1458333333333333, 3.3333333333333335, 6.0625, 9.083333333333334, 4.895833333333333, 4.833333333333333, 4.354166666666667, 5.166666666666667, 1.8333333333333333, 8.041666666666666, 6.770833333333333, 14.6875, 16.958333333333332, 9.666666666666666, 4.375, 20.979166666666668, 7.145833333333333, 7.791666666666667, 4.9375, 5.333333333333333, 8.333333333333334, 11.5, 5.291666666666667, 7.666666666666667, 7.625, 9.041666666666666, 6.375, 7.6875, 8.541666666666666, 6.1875, 4.1875, 8.729166666666666, 7.979166666666667, 6.916666666666667, 6.416666666666667, 5.333333333333333, 5.291666666666667, 3.4583333333333335, 2.5416666666666665, 2.2083333333333335, 1.2083333333333333, 13.791666666666666, 6.6875, 4.708333333333333, 6.666666666666667, 3.9375, 2.5625, 8.458333333333334, 7.0, 7.333333333333333, 5.958333333333333, 4.666666666666667, 8.583333333333334, 4.625, 7.791666666666667, 2.3958333333333335, 8.020833333333334, 5.3125, 6.708333333333333, 1.3333333333333333, 13.229166666666666, 51.0, 5.770833333333333, 14.333333333333334, 11.916666666666666, 12.291666666666666, 4.666666666666667, 15.979166666666666, 1.9375, 2.8541666666666665, 4.333333333333333, 3.8333333333333335, 7.458333333333333, 4.645833333333333, 5.166666666666667, 10.1875, 9.666666666666666, 8.8125, 5.1875, 8.145833333333334, 1.3333333333333333, 8.125, 4.8125, 8.8125, 6.333333333333333, 4.0, 4.208333333333333, 4.395833333333333, 4.145833333333333, 4.333333333333333, 5.0625, 2.0, 15.3125, 9.0625, 3.2291666666666665, 18.125, 15.8125, 5.5, 7.770833333333333, 15.291666666666666, 3.0, 7.104166666666667, 13.583333333333334, 10.1875, 9.875, 8.520833333333334, 7.541666666666667, 0.625, 1.6458333333333333, 0.6666666666666666, 5.895833333333333, 1.7083333333333333, 11.083333333333334, 5.8125, 1.5, 3.6666666666666665, 6.0625, 4.625, 6.854166666666667, 4.5, 3.2083333333333335, 1.9166666666666667, 3.875, 2.6666666666666665, 5.333333333333333, 4.395833333333333, 8.333333333333334, 5.0, 4.291666666666667, 11.270833333333334, 7.625, 13.291666666666666, 10.4375, 10.479166666666666, 6.666666666666667, 4.333333333333333, 2.5416666666666665, 15.333333333333334, 7.791666666666667, 3.3125]\n"
          ],
          "name": "stdout"
        }
      ]
    },
    {
      "cell_type": "markdown",
      "metadata": {
        "id": "4LC_Wz2svod-",
        "colab_type": "text"
      },
      "source": [
        "You can see that using a combination of `map()` and `lambda` expressions can be very powerful."
      ]
    },
    {
      "cell_type": "markdown",
      "metadata": {
        "id": "9f2Wm8CMFbf8",
        "colab_type": "text"
      },
      "source": [
        "Now we have our list of hours it would take to read each book. Let's get the total hours for all the books, and the average hours it would take to read each."
      ]
    },
    {
      "cell_type": "code",
      "metadata": {
        "id": "S3ludXysFjOm",
        "colab_type": "code",
        "outputId": "5b3303c5-bb53-4f06-cf20-873f86159fb7",
        "colab": {
          "base_uri": "https://localhost:8080/",
          "height": 51
        }
      },
      "source": [
        "#total hours \n",
        "total_hours = sum(hours_per_book)\n",
        "print(\"Read-time of all books in hours:\", total_hours)\n",
        "#average\n",
        "average_hours = total_hours/len(hours_per_book)\n",
        "print(\"Average read-time per book in hours:\", average_hours)"
      ],
      "execution_count": 0,
      "outputs": [
        {
          "output_type": "stream",
          "text": [
            "Read-time of all books in hours: 1476.541666666666\n",
            "Average read-time per book in hours: 7.202642276422761\n"
          ],
          "name": "stdout"
        }
      ]
    },
    {
      "cell_type": "markdown",
      "metadata": {
        "colab_type": "text",
        "id": "ugseqoqqhkyQ"
      },
      "source": [
        "\n",
        "\n",
        "\n",
        "\n",
        "---\n",
        "\n",
        "\n",
        "### e. using a `list comprehension` to solve Problem 5\n",
        "\n",
        "\n",
        "**Problem 5:**\n",
        "Given the data we have already gotten about the shelves for this user, I want to see all the data per shelf in one nested list, without having to make another API call. \n",
        "\n",
        "\n",
        "**Solution to Problem 5:**\n",
        "\n",
        "Using `list comprehensions` we can create a matrix the names of the shelves, the total books in each, as well as the average review for the books in the shelf, and then transpose the matrix so that we have a nested list, each inner list holding the various data for one shelf.\n",
        "\n",
        "First, let's take a quick peak at the data we already have:"
      ]
    },
    {
      "cell_type": "code",
      "metadata": {
        "id": "Rxa3WfsQYwp9",
        "colab_type": "code",
        "outputId": "ac499bcd-5ac7-4d48-db79-7ede3e298011",
        "colab": {
          "base_uri": "https://localhost:8080/",
          "height": 68
        }
      },
      "source": [
        "print(\"Shelves:\", shelf_list)\n",
        "print(\"Books in shelf:\", totals_list)\n",
        "print(\"Average rating per shelf:\", rating_list)"
      ],
      "execution_count": 0,
      "outputs": [
        {
          "output_type": "stream",
          "text": [
            "Shelves: ['read', 'currently-reading', 'to-read', 'korean-edition', 'taking-a-break']\n",
            "Books in shelf: [222, 2, 107, 2, 2]\n",
            "Average rating per shelf: ['4.07', '3.96', '4.07', '4.17', '4.08']\n"
          ],
          "name": "stdout"
        }
      ]
    },
    {
      "cell_type": "markdown",
      "metadata": {
        "id": "Pz0KSiVJYzGR",
        "colab_type": "text"
      },
      "source": [
        "Now, let's put those three lists into a matrix:"
      ]
    },
    {
      "cell_type": "code",
      "metadata": {
        "id": "4wlfsCAJY2Bl",
        "colab_type": "code",
        "colab": {}
      },
      "source": [
        "shelf_matrix = [shelf_list, rating_list, totals_list]"
      ],
      "execution_count": 0,
      "outputs": []
    },
    {
      "cell_type": "markdown",
      "metadata": {
        "id": "H74R9v36Y4Ag",
        "colab_type": "text"
      },
      "source": [
        "Finally, let's use `list comprehension` to transpose these lists into the nested list we want to see, without having to write complex nested for loops."
      ]
    },
    {
      "cell_type": "code",
      "metadata": {
        "id": "abJ73CtXSA8Y",
        "colab_type": "code",
        "outputId": "21573447-cfb4-47cb-ecab-753bfe6a9f3a",
        "colab": {
          "base_uri": "https://localhost:8080/",
          "height": 54
        }
      },
      "source": [
        "#the inner list comprehension compiles the elements at a certain index of each list\n",
        "#e.g. it will create a new list containing the first element of each list\n",
        "#the outer list comprehension simply counts from 0 to the number of elements in the first list,\n",
        "#specifying that index for the inner comprehension\n",
        "transpose = [[row[shelf] for row in shelf_matrix] for shelf in range(len(shelf_list))]\n",
        "print (\"Transposed matrix:\", transpose)"
      ],
      "execution_count": 0,
      "outputs": [
        {
          "output_type": "stream",
          "text": [
            "Transposed matrix: [['read', '4.07', 222], ['currently-reading', '3.96', 2], ['to-read', '4.07', 107], ['korean-edition', '4.17', 2], ['taking-a-break', '4.08', 2]]\n"
          ],
          "name": "stdout"
        }
      ]
    },
    {
      "cell_type": "markdown",
      "metadata": {
        "id": "7IQHCwpX1KlE",
        "colab_type": "text"
      },
      "source": [
        "Note: this operation can also be done using the `zip()` function as follows:\n",
        "\n",
        "\n",
        "> `zip(shelf_list, totals_list, rating_list)`"
      ]
    },
    {
      "cell_type": "markdown",
      "metadata": {
        "id": "9Uwk_2uJZMAZ",
        "colab_type": "text"
      },
      "source": [
        "This is one example of the simplicity of using `list comprehension`. You can create new lists by performing operations on already existing lists or other data without for loops. It also allows for conditionals, though we have not used them here.\n",
        "\n",
        "\n",
        "\n"
      ]
    },
    {
      "cell_type": "markdown",
      "metadata": {
        "id": "wTjNYbBi009g",
        "colab_type": "text"
      },
      "source": [
        "## Signing off\n",
        "\n",
        "\n",
        "There's so much more that can be done with the goodreads.com API and python programming, but that's all we will cover for now.\n",
        "\n",
        "Thank you\n"
      ]
    }
  ]
}